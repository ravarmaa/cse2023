{
 "cells": [
  {
   "attachments": {},
   "cell_type": "markdown",
   "metadata": {},
   "source": [
    "# Practical 7  \n",
    "\n",
    "**Objective**:\n",
    "In this practical, you will learn about system stability, observability, controllability, and how to design a state feedback controller using Python's control systems library. You will implement a simple state feedback controller for a given system.  \n",
    "\n",
    "**Introduction**:\n",
    "State space representation is a powerful method for analyzing and designing control systems. This practical will guide you through various aspects of state space controller design, including determining system stability, observability, controllability, and implementation of a simple state feedback controller.\n",
    "\n",
    "**Exercise 1**: Determining System Stability\n",
    "In this exercise, you will check the stability of a given system by finding its eigenvalues. Eigenvalues are used to determine system stability because they indicate the behavior of the system over time. If all eigenvalues have negative real parts, the system is stable; if any eigenvalue has a positive real part, the system is unstable; if eigenvalues have zero real parts, the system is marginally stable.  \n",
    "1.1. Import the necessary libraries:"
   ]
  },
  {
   "cell_type": "code",
   "execution_count": 1,
   "metadata": {},
   "outputs": [],
   "source": [
    "import numpy as np\n",
    "import control as ctl"
   ]
  },
  {
   "attachments": {},
   "cell_type": "markdown",
   "metadata": {},
   "source": [
    "1.2. Consider the following state space system:"
   ]
  },
  {
   "cell_type": "code",
   "execution_count": 2,
   "metadata": {},
   "outputs": [],
   "source": [
    "A = np.asarray([[-1, 0], [0, -2]])\n",
    "B = np.asarray([[1], [1]])\n",
    "C = np.asarray([[1, 1]])\n",
    "D = np.asarray([[0]])"
   ]
  },
  {
   "attachments": {},
   "cell_type": "markdown",
   "metadata": {},
   "source": [
    "Create the state space system using ctl.ss:"
   ]
  },
  {
   "cell_type": "code",
   "execution_count": 3,
   "metadata": {},
   "outputs": [],
   "source": [
    "sys = ctl.ss(A, B, C, D)"
   ]
  },
  {
   "attachments": {},
   "cell_type": "markdown",
   "metadata": {},
   "source": [
    "1.3. Determine the eigenvalues of the A matrix using np.linalg.eigvals:"
   ]
  },
  {
   "cell_type": "code",
   "execution_count": 4,
   "metadata": {},
   "outputs": [
    {
     "name": "stdout",
     "output_type": "stream",
     "text": [
      "Eigenvalues: [-1. -2.]\n"
     ]
    }
   ],
   "source": [
    "eigvals = np.linalg.eigvals(A)\n",
    "print(\"Eigenvalues:\", eigvals)"
   ]
  },
  {
   "attachments": {},
   "cell_type": "markdown",
   "metadata": {},
   "source": [
    "1.4. Analyze the eigenvalues to determine if the system is stable, unstable, or marginally stable. Write down your conclusion.\n",
    "\n",
    "1.5. Modify the A matrix to create different systems with varying stability properties (e.g., stable, unstable, and marginally stable systems). Repeat steps 1.3 and 1.4 for each system and observe the relationship between eigenvalues and system stability. Write down your observations."
   ]
  },
  {
   "attachments": {},
   "cell_type": "markdown",
   "metadata": {},
   "source": [
    "Exercise 2: Observability and Controllability (20 minutes)\n",
    "In this exercise, you will check if the given system is observable and controllable.\n",
    "\n",
    "2.1. Calculate the observability matrix using ctl.obsv:"
   ]
  },
  {
   "cell_type": "code",
   "execution_count": 5,
   "metadata": {},
   "outputs": [
    {
     "name": "stdout",
     "output_type": "stream",
     "text": [
      "Observability matrix: [[ 1.  1.]\n",
      " [-1. -2.]]\n"
     ]
    }
   ],
   "source": [
    "Obsv = ctl.obsv(sys.A, sys.C)\n",
    "print(\"Observability matrix:\", Obsv)"
   ]
  },
  {
   "attachments": {},
   "cell_type": "markdown",
   "metadata": {},
   "source": [
    "2.2. Determine if the system is observable by checking the rank of the observability matrix using np.linalg.matrix_rank:"
   ]
  },
  {
   "cell_type": "code",
   "execution_count": 6,
   "metadata": {},
   "outputs": [
    {
     "name": "stdout",
     "output_type": "stream",
     "text": [
      "Observable: True\n"
     ]
    }
   ],
   "source": [
    "observable = np.linalg.matrix_rank(Obsv) == A.shape[0]\n",
    "print(\"Observable:\", observable)"
   ]
  },
  {
   "attachments": {},
   "cell_type": "markdown",
   "metadata": {},
   "source": [
    "2.3. Calculate the controllability matrix using ctl.ctrb:"
   ]
  },
  {
   "cell_type": "code",
   "execution_count": 7,
   "metadata": {},
   "outputs": [
    {
     "name": "stdout",
     "output_type": "stream",
     "text": [
      "Controllability matrix: [[ 1. -1.]\n",
      " [ 1. -2.]]\n"
     ]
    }
   ],
   "source": [
    "Ctrb = ctl.ctrb(sys.A, sys.B)\n",
    "print(\"Controllability matrix:\", Ctrb)"
   ]
  },
  {
   "attachments": {},
   "cell_type": "markdown",
   "metadata": {},
   "source": [
    "2.4. Determine if the system is controllable by checking the rank of the controllability matrix using np.linalg.matrix_rank:"
   ]
  },
  {
   "cell_type": "code",
   "execution_count": 8,
   "metadata": {},
   "outputs": [
    {
     "name": "stdout",
     "output_type": "stream",
     "text": [
      "Controllable: True\n"
     ]
    }
   ],
   "source": [
    "controllable = np.linalg.matrix_rank(Ctrb) == A.shape[0]\n",
    "print(\"Controllable:\", controllable)"
   ]
  },
  {
   "attachments": {},
   "cell_type": "markdown",
   "metadata": {},
   "source": [
    "2.5. Modify the A, B, or C matrices to create different systems with varying observability and controllability properties. Repeat steps 3.1 to 3.4 for each system and observe the relationship between system parameters and observability/controllability. Write down your observations.\n",
    "\n",
    "**Exercise 3**: Designing a State Feedback Controller  \n",
    "In this exercise, you will design a state feedback controller for the given system, assuming it is both observable and controllable. \n",
    "\n",
    "In a state feedback controller, the control input (u) is calculated as a linear combination of the system states (x) and a gain matrix (K). The control input is given by:\n",
    "\n",
    "u = -K * x\n",
    "\n",
    "The minus sign ensures that the feedback is negative, which is a requirement for stability in control systems. The gain matrix K is designed to place the closed-loop eigenvalues at desired locations, which helps achieve a specified system performance (e.g., faster settling time, reduced overshoot, etc.).\n",
    "\n",
    "When implementing the state feedback controller, you want to create a closed-loop system, which means the controller's action is combined with the plant dynamics. In the state-space representation, the state update equation for the open-loop system is given by:\n",
    "\n",
    "x_dot = A * x + B * u\n",
    "\n",
    "Substituting the control input from the state feedback controller, we get:\n",
    "\n",
    "x_dot = A * x - B * K * x\n",
    "\n",
    "Which can be rewritten as:\n",
    "\n",
    "x_dot = (A - B * K) * x\n",
    "\n",
    "This is the closed-loop state update equation, and the matrix (A - B * K) represents the closed-loop system's A matrix (A_cl)\n",
    "\n",
    "3.1. Determine the desired closed-loop eigenvalues for your system. For example, choose two eigenvalues with negative real parts, e.g., -3 and -4.  \n",
    "3.2. Use ctl.place to find the state feedback gain matrix K that will place the closed-loop eigenvalues at the desired locations:"
   ]
  },
  {
   "cell_type": "code",
   "execution_count": 9,
   "metadata": {},
   "outputs": [
    {
     "name": "stdout",
     "output_type": "stream",
     "text": [
      "State feedback gain matrix K: [[ 6. -2.]]\n"
     ]
    }
   ],
   "source": [
    "desired_eigvals = np.array([-3, -4])\n",
    "K = ctl.place(sys.A, sys.B, desired_eigvals)\n",
    "print(\"State feedback gain matrix K:\", K)"
   ]
  },
  {
   "attachments": {},
   "cell_type": "markdown",
   "metadata": {},
   "source": [
    "3.3. Implement the state feedback controller by updating the A matrix with the state feedback gain matrix K:"
   ]
  },
  {
   "cell_type": "code",
   "execution_count": 10,
   "metadata": {},
   "outputs": [
    {
     "name": "stdout",
     "output_type": "stream",
     "text": [
      "Closed-loop A matrix: [[-7.0000000e+00  2.0000000e+00]\n",
      " [-6.0000000e+00  8.8817842e-16]]\n"
     ]
    }
   ],
   "source": [
    "A_cl = sys.A - sys.B.dot(K)\n",
    "print(\"Closed-loop A matrix:\", A_cl)"
   ]
  },
  {
   "attachments": {},
   "cell_type": "markdown",
   "metadata": {},
   "source": [
    "3.4. Create the closed-loop state space system using the updated A matrix:"
   ]
  },
  {
   "cell_type": "code",
   "execution_count": 11,
   "metadata": {},
   "outputs": [],
   "source": [
    "sys_cl = ctl.ss(A_cl, sys.B, sys.C, sys.D)"
   ]
  },
  {
   "attachments": {},
   "cell_type": "markdown",
   "metadata": {},
   "source": [
    "3.5 Simulate the closed-loop system's response to a step input. \n",
    "\n",
    "Define a time vector for simulation using np.linspace, e.g., from 0 to 10 seconds with 1000 points:"
   ]
  },
  {
   "cell_type": "code",
   "execution_count": 12,
   "metadata": {},
   "outputs": [],
   "source": [
    "time = np.linspace(0, 10, 1000)"
   ]
  },
  {
   "attachments": {},
   "cell_type": "markdown",
   "metadata": {},
   "source": [
    "Calculate the step response of the open and closed-loop system using ctl.step_response:"
   ]
  },
  {
   "cell_type": "code",
   "execution_count": 13,
   "metadata": {},
   "outputs": [],
   "source": [
    "t1, y1 = ctl.step_response(sys, time)\n",
    "t2, y2 = ctl.step_response(sys_cl, time)"
   ]
  },
  {
   "attachments": {},
   "cell_type": "markdown",
   "metadata": {},
   "source": [
    "Plot the step responses of both the open-loop and closed-loop systems using matplotlib:"
   ]
  },
  {
   "cell_type": "code",
   "execution_count": 14,
   "metadata": {},
   "outputs": [
    {
     "data": {
      "image/png": "[encoded data removed]",
      "text/plain": [
       "<Figure size 432x288 with 1 Axes>"
      ]
     },
     "metadata": {
      "needs_background": "light"
     },
     "output_type": "display_data"
    }
   ],
   "source": [
    "import matplotlib.pyplot as plt\n",
    "\n",
    "plt.plot(t1, y1, label='Open-loop')\n",
    "plt.plot(t2, y2, label='Closed-loop')\n",
    "plt.xlabel('Time (s)')\n",
    "plt.ylabel('Output')\n",
    "plt.title('Step Response Comparison')\n",
    "plt.legend()\n",
    "plt.grid(True)\n",
    "plt.show()"
   ]
  },
  {
   "attachments": {},
   "cell_type": "markdown",
   "metadata": {},
   "source": [
    "3.6 Repeat steps 3.1 to 3.5 with different desired closed-loop eigenvalues. Observe how the choice of eigenvalues affects the step response and system performance (e.g., settling time, overshoot, and steady-state error).  \n",
    "\n",
    "3.7 Compare the closed-loop system's performance with different desired closed-loop eigenvalues (analyze the step responses). What do you observe about the relationship between the desired eigenvalues and the system's performance? Write down your observations.  "
   ]
  }
 ],
 "metadata": {
  "kernelspec": {
   "display_name": "Python 3",
   "language": "python",
   "name": "python3"
  },
  "language_info": {
   "codemirror_mode": {
    "name": "ipython",
    "version": 3
   },
   "file_extension": ".py",
   "mimetype": "text/x-python",
   "name": "python",
   "nbconvert_exporter": "python",
   "pygments_lexer": "ipython3",
   "version": "3.8.10"
  },
  "orig_nbformat": 4
 },
 "nbformat": 4,
 "nbformat_minor": 2
}
